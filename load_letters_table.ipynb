{
 "cells": [
  {
   "cell_type": "code",
   "execution_count": 2,
   "metadata": {},
   "outputs": [
    {
     "name": "stdout",
     "output_type": "stream",
     "text": [
      "pygame 1.9.6\n",
      "Hello from the pygame community. https://www.pygame.org/contribute.html\n"
     ]
    }
   ],
   "source": [
    "from PIL import Image\n",
    "import os\n",
    "import pygame"
   ]
  },
  {
   "cell_type": "code",
   "execution_count": null,
   "metadata": {},
   "outputs": [],
   "source": [
    "class Param():\n",
    "    def __init__(self, **kwargs):\n",
    "        self.attribute = kwargs.get('name', default_value)\n",
    "        self.x = 57\n",
    "        self.y = 57\n",
    "        self.width = 237\n",
    "        self.height = 249\n",
    "        self.line=67\n",
    "        self.bg_x=0\n",
    "        self.bg_y=0\n",
    "        self.sq_row=2\n",
    "        self.sq_col=2\n",
    "        self.win_scale=1\n",
    "        "
   ]
  },
  {
   "cell_type": "code",
   "execution_count": 15,
   "metadata": {},
   "outputs": [],
   "source": [
    "def find_params(image):\n",
    "    pygame.init()\n",
    "    WIN_SIZE=(600, 600)\n",
    "    COLORS=((255,0,0), (0,255,0), (0,0,255), (255,0,255), (255,255,0), (0,255,255))\n",
    "    win = pygame.display.set_mode(WIN_SIZE)\n",
    "    pygame.display.set_caption(\"Slice squares\")\n",
    "    \n",
    "    mode = image.mode\n",
    "    size = image.size\n",
    "    data = image.tobytes()\n",
    "    bg = pygame.image.fromstring(data, size, mode)  \n",
    "    \n",
    "\n",
    "    x = 57\n",
    "    y = 57\n",
    "    width = 237\n",
    "    height = 249\n",
    "    line=67\n",
    "    bg_x=0\n",
    "    bg_y=0\n",
    "    sq_row=2\n",
    "    sq_col=2\n",
    "    win_scale=1\n",
    "\n",
    "\n",
    "    run = True\n",
    "    while run:\n",
    "        pygame.time.delay(10)\n",
    "\n",
    "        for event in pygame.event.get():\n",
    "            if event.type == pygame.QUIT:\n",
    "                run = False\n",
    "\n",
    "        keys = pygame.key.get_pressed()\n",
    "        \n",
    "        if keys[pygame.K_LEFT]: \n",
    "            x -= 1\n",
    "\n",
    "        if keys[pygame.K_RIGHT]:  \n",
    "            x += 1\n",
    "            \n",
    "        if keys[pygame.K_UP]: \n",
    "            y -= 1\n",
    "\n",
    "        if keys[pygame.K_DOWN]:  \n",
    "            y += 1\n",
    "\n",
    "        if keys[pygame.K_a]: \n",
    "            width -= 1\n",
    "\n",
    "        if keys[pygame.K_d]:  \n",
    "            width += 1\n",
    "            \n",
    "        if keys[pygame.K_w]: \n",
    "            height -= 1\n",
    "\n",
    "        if keys[pygame.K_s]:  \n",
    "            height += 1\n",
    "\n",
    "        if keys[pygame.K_KP_PLUS]:  \n",
    "            line += 1\n",
    "\n",
    "        if keys[pygame.K_KP_MINUS]:  \n",
    "            line -= 1\n",
    "\n",
    "        if keys[pygame.K_KP4] and bg_x<=-1:  \n",
    "            bg_x += 10\n",
    "\n",
    "        if keys[pygame.K_KP6]:  \n",
    "            bg_x -= 10\n",
    "\n",
    "        if keys[pygame.K_KP8] and bg_y<=-1:  \n",
    "            bg_y += 10\n",
    "\n",
    "        if keys[pygame.K_KP2]:  \n",
    "            bg_y -= 10\n",
    "\n",
    "        if keys[pygame.K_KP3]:  \n",
    "            win_scale *= 1.199999\n",
    "\n",
    "        if keys[pygame.K_KP1]:  \n",
    "            win_scale /= 1.1\n",
    "\n",
    "        if keys[pygame.K_KP9] and sq_row <14:\n",
    "            if sq_col<10:\n",
    "                sq_col += 1\n",
    "            sq_row += 1\n",
    "\n",
    "        if keys[pygame.K_KP7] and sq_row >1:\n",
    "            if sq_col==sq_row:\n",
    "                sq_col -= 1\n",
    "            sq_row -= 1\n",
    "            \n",
    "        if keys[pygame.K_SPACE]:\n",
    "            run = False\n",
    "\n",
    "\n",
    "        win.fill((255,255,255))    \n",
    "        scale_size=tuple((int(i*win_scale) for i in image.size))\n",
    "        win.blit(pygame.transform.scale(bg, scale_size),(bg_x,bg_y))\n",
    "        for b,c in zip(((i,j) for i in range(sq_row) for j in range(sq_col)), COLORS*24):\n",
    "            row,col=b\n",
    "            left,top= col*(width+line)+x, row*(height+line)+y\n",
    "            r= pygame.Rect(left*win_scale+bg_x,top*win_scale+bg_y,width*win_scale,height*win_scale)\n",
    "            pygame.draw.rect(win, c, r, 1)\n",
    "        pygame.display.update()\n",
    "    pygame.quit()\n",
    "    return (x,y), width,height, line"
   ]
  },
  {
   "cell_type": "code",
   "execution_count": 16,
   "metadata": {},
   "outputs": [
    {
     "name": "stdout",
     "output_type": "stream",
     "text": [
      "(57, 57) 237 249 67\n"
     ]
    }
   ],
   "source": [
    "image = 'test sheet 1.jpg'\n",
    "img = Image.open(image)\n",
    "offset,width, height, line=find_params(img)\n",
    "print(offset,width, height, line)\n",
    "for row in range(14):\n",
    "    for col in range(10):\n",
    "        left,top= col*(width+line)+offset[0], row*(height+line)+offset[1]\n",
    "        box = (left,top, left+width,top+height)\n",
    "        a = im.crop(box)\n",
    "        a.save(os.path.join(os.getcwd(),\"PNG\",\"3\",\"IMG-%s-%s.png\" % (row,col)))\n"
   ]
  }
 ],
 "metadata": {
  "kernelspec": {
   "display_name": "Python 3",
   "language": "python",
   "name": "python3"
  },
  "language_info": {
   "codemirror_mode": {
    "name": "ipython",
    "version": 3
   },
   "file_extension": ".py",
   "mimetype": "text/x-python",
   "name": "python",
   "nbconvert_exporter": "python",
   "pygments_lexer": "ipython3",
   "version": "3.7.4"
  }
 },
 "nbformat": 4,
 "nbformat_minor": 2
}
